{
  "nbformat": 4,
  "nbformat_minor": 0,
  "metadata": {
    "colab": {
      "name": "Image Classification.ipynb",
      "provenance": [],
      "collapsed_sections": [],
      "authorship_tag": "ABX9TyO0Z/R8OrtsixOtaAQRdA1M",
      "include_colab_link": true
    },
    "kernelspec": {
      "name": "python3",
      "display_name": "Python 3"
    }
  },
  "cells": [
    {
      "cell_type": "markdown",
      "metadata": {
        "id": "view-in-github",
        "colab_type": "text"
      },
      "source": [
        "<a href=\"https://colab.research.google.com/github/sandesh0421/Mini-Project/blob/main/Image_Classification.ipynb\" target=\"_parent\"><img src=\"https://colab.research.google.com/assets/colab-badge.svg\" alt=\"Open In Colab\"/></a>"
      ]
    },
    {
      "cell_type": "code",
      "metadata": {
        "colab": {
          "base_uri": "https://localhost:8080/"
        },
        "id": "f6Kp90-cZXhp",
        "outputId": "1135bcf4-6a89-4867-9754-2d1ecafea56f"
      },
      "source": [
        "# Python library to find execution time of specific cell\r\n",
        "!pip install ipython-autotime\r\n",
        "%load_ext autotime"
      ],
      "execution_count": 1,
      "outputs": [
        {
          "output_type": "stream",
          "text": [
            "Requirement already satisfied: ipython-autotime in /usr/local/lib/python3.6/dist-packages (0.3.1)\n",
            "Requirement already satisfied: ipython in /usr/local/lib/python3.6/dist-packages (from ipython-autotime) (5.5.0)\n",
            "Requirement already satisfied: prompt-toolkit<2.0.0,>=1.0.4 in /usr/local/lib/python3.6/dist-packages (from ipython->ipython-autotime) (1.0.18)\n",
            "Requirement already satisfied: simplegeneric>0.8 in /usr/local/lib/python3.6/dist-packages (from ipython->ipython-autotime) (0.8.1)\n",
            "Requirement already satisfied: decorator in /usr/local/lib/python3.6/dist-packages (from ipython->ipython-autotime) (4.4.2)\n",
            "Requirement already satisfied: setuptools>=18.5 in /usr/local/lib/python3.6/dist-packages (from ipython->ipython-autotime) (53.0.0)\n",
            "Requirement already satisfied: pygments in /usr/local/lib/python3.6/dist-packages (from ipython->ipython-autotime) (2.6.1)\n",
            "Requirement already satisfied: traitlets>=4.2 in /usr/local/lib/python3.6/dist-packages (from ipython->ipython-autotime) (4.3.3)\n",
            "Requirement already satisfied: pickleshare in /usr/local/lib/python3.6/dist-packages (from ipython->ipython-autotime) (0.7.5)\n",
            "Requirement already satisfied: pexpect; sys_platform != \"win32\" in /usr/local/lib/python3.6/dist-packages (from ipython->ipython-autotime) (4.8.0)\n",
            "Requirement already satisfied: six>=1.9.0 in /usr/local/lib/python3.6/dist-packages (from prompt-toolkit<2.0.0,>=1.0.4->ipython->ipython-autotime) (1.15.0)\n",
            "Requirement already satisfied: wcwidth in /usr/local/lib/python3.6/dist-packages (from prompt-toolkit<2.0.0,>=1.0.4->ipython->ipython-autotime) (0.2.5)\n",
            "Requirement already satisfied: ipython-genutils in /usr/local/lib/python3.6/dist-packages (from traitlets>=4.2->ipython->ipython-autotime) (0.2.0)\n",
            "Requirement already satisfied: ptyprocess>=0.5 in /usr/local/lib/python3.6/dist-packages (from pexpect; sys_platform != \"win32\"->ipython->ipython-autotime) (0.7.0)\n",
            "time: 6.71 ms (started: 2021-02-21 09:49:33 +00:00)\n"
          ],
          "name": "stdout"
        }
      ]
    },
    {
      "cell_type": "code",
      "metadata": {
        "colab": {
          "base_uri": "https://localhost:8080/"
        },
        "id": "qEYc0qUtF5ni",
        "outputId": "bd806b84-79e5-469f-99c7-95932e0158cd"
      },
      "source": [
        "!pip install bing-image-downloader"
      ],
      "execution_count": 2,
      "outputs": [
        {
          "output_type": "stream",
          "text": [
            "Requirement already satisfied: bing-image-downloader in /usr/local/lib/python3.6/dist-packages (1.0.4)\n",
            "time: 6.39 s (started: 2021-02-21 09:49:33 +00:00)\n"
          ],
          "name": "stdout"
        }
      ]
    },
    {
      "cell_type": "code",
      "metadata": {
        "id": "b6QX8999XlXE",
        "colab": {
          "base_uri": "https://localhost:8080/"
        },
        "outputId": "16e87b17-cbe1-4880-cfa1-9eaf58fec1ac"
      },
      "source": [
        "!mkdir images"
      ],
      "execution_count": 3,
      "outputs": [
        {
          "output_type": "stream",
          "text": [
            "mkdir: cannot create directory ‘images’: File exists\n",
            "time: 123 ms (started: 2021-02-21 09:49:39 +00:00)\n"
          ],
          "name": "stdout"
        }
      ]
    },
    {
      "cell_type": "code",
      "metadata": {
        "colab": {
          "base_uri": "https://localhost:8080/"
        },
        "id": "PDs0IhzIXwG5",
        "outputId": "6da4f19e-0e02-4fa8-b14c-c94441972bb6"
      },
      "source": [
        "# Data Gathering\r\n",
        "from bing_image_downloader import downloader\r\n",
        "downloader.download(\"Soccer ball\", limit = 30, output_dir = \"images\", \r\n",
        "                    adult_filter_off = True)"
      ],
      "execution_count": 4,
      "outputs": [
        {
          "output_type": "stream",
          "text": [
            "\n",
            "\n",
            "[!!]Indexing page: 1\n",
            "\n",
            "[%] Indexed 30 Images on Page 1.\n",
            "\n",
            "===============================================\n",
            "\n",
            "[%] Downloading Image #1 from https://moneycrashers-sparkchargemedia.netdna-ssl.com/wp-content/uploads/2018/12/fitness-exercises-soccer-ball.jpg\n",
            "[%] File Downloaded !\n",
            "\n",
            "[%] Downloading Image #2 from http://www.sibconline.com.sb/wp-content/uploads/2015/01/Soccer-ball.jpg\n",
            "[%] File Downloaded !\n",
            "\n",
            "[%] Downloading Image #3 from https://www.journalpioneer.com/media/photologue/photos/cache/CH-soccer_ball-10_23_2018-123rf_large.jpg\n",
            "[%] File Downloaded !\n",
            "\n",
            "[%] Downloading Image #4 from https://www.soccerpro.com/wp-content/uploads/2018/01/sc3101_406_nike_pitch_training_ball_01.jpg\n",
            "[%] File Downloaded !\n",
            "\n",
            "[%] Downloading Image #5 from http://i.huffpost.com/gen/1858378/thumbs/o-SOCCER-BALL-facebook.jpg\n",
            "[%] File Downloaded !\n",
            "\n",
            "[%] Downloading Image #6 from https://i2.wp.com/www.soccercleats101.com/wp-content/uploads/2015/08/Nike-Ordem.jpg\n",
            "[%] File Downloaded !\n",
            "\n",
            "[%] Downloading Image #7 from https://nwscdn.com/media/catalog/product/b/e/best_soccer_ball_for_matches.jpg\n",
            "[%] File Downloaded !\n",
            "\n",
            "[%] Downloading Image #8 from https://i2.wp.com/www.soccercleats101.com/wp-content/uploads/2015/08/Best-Soccer-Balls.jpg\n",
            "[%] File Downloaded !\n",
            "\n",
            "[%] Downloading Image #9 from https://www.soccerpro.com/wp-content/uploads/2018/01/sc3155_415_nike_strike_ball_neymar_02.jpg\n",
            "[%] File Downloaded !\n",
            "\n",
            "[%] Downloading Image #10 from https://ae01.alicdn.com/kf/HTB1U9U4eFHM8KJjSZJiq6zx3FXaG/New-Arrivals-2018-Premier-PU-Football-official-Soccer-ball-Size-5-ball-Football-league-sports-training.jpg\n",
            "[%] File Downloaded !\n",
            "\n",
            "[%] Downloading Image #11 from https://activeforlife.com/content/uploads/2018/07/soccer-ball-2121x1414.jpg\n",
            "[%] File Downloaded !\n",
            "\n",
            "[%] Downloading Image #12 from http://i.huffpost.com/gen/1161480/images/o-SOCCER-BALL-facebook.jpg\n",
            "[%] File Downloaded !\n",
            "\n",
            "[%] Downloading Image #13 from https://www.bestsoccerbuys.com/content/images/thumbs/0000515_classic-collection-soccer-ball-gold-hexagons-black-pentagons.jpeg\n",
            "[%] File Downloaded !\n",
            "\n",
            "[%] Downloading Image #14 from https://www.soccermaster.com/wp-content/uploads/2018/03/sc2401_887_nike_ball_01.jpg\n",
            "[%] File Downloaded !\n",
            "\n",
            "[%] Downloading Image #15 from https://images.fineartamerica.com/images/artworkimages/mediumlarge/2/soccer-ball-on-a-soccer-field-green-grass-football-pitch-mateusz-dembowiak.jpg\n",
            "[%] File Downloaded !\n",
            "\n",
            "[%] Downloading Image #16 from https://cheamsports.ca/wp-content/uploads/2017/05/NIKE-PITCH-SOCCER-BALL.jpg\n",
            "[%] File Downloaded !\n",
            "\n",
            "[%] Downloading Image #17 from http://www.football-knowledge.com/wp-content/uploads/2014/12/soccer-ball.jpg\n",
            "[%] File Downloaded !\n",
            "\n",
            "[%] Downloading Image #18 from https://ae01.alicdn.com/kf/HTB1LzSwJVXXXXX9XXXXq6xXFXXXa/-font-b-Soccer-b-font-font-b-Ball-b-font-PU-font-b-Foam-b.jpg\n",
            "[%] File Downloaded !\n",
            "\n",
            "[%] Downloading Image #19 from https://www.soccerpro.com/wp-content/uploads/sc3893_639_nike_pitch_training_ball_01.jpg\n",
            "[%] File Downloaded !\n",
            "\n",
            "[%] Downloading Image #20 from https://athleticlift.com/wp-content/uploads/2019/03/best_soccer_ball_001.jpg\n",
            "[%] File Downloaded !\n",
            "\n",
            "[%] Downloading Image #21 from https://www.stefanssoccer.com/prodimages/8318-DEFAULT-l.jpg\n",
            "[%] File Downloaded !\n",
            "\n",
            "[%] Downloading Image #22 from https://www.soccerpro.com/wp-content/uploads/2018/01/sc3155_415_nike_strike_ball_neymar_01.jpg\n",
            "[%] File Downloaded !\n",
            "\n",
            "[%] Downloading Image #23 from https://kezan.eu/wp-content/uploads/2017/09/Adidas_SoccerBall2.png\n",
            "[%] File Downloaded !\n",
            "\n",
            "[%] Downloading Image #24 from http://i.huffpost.com/gen/1211437/images/o-SOCCER-BALL-facebook.jpg\n",
            "[%] File Downloaded !\n",
            "\n",
            "[%] Downloading Image #25 from https://www.thenation.com/wp-content/uploads/2018/04/soccer-ball-ss-img.jpg?scale=896&amp;compress=80\n",
            "[%] File Downloaded !\n",
            "\n",
            "[%] Downloading Image #26 from http://cdn.sportlaunches.com/wp-content/uploads/2017/08/Umbro-FIFA-approved-soccer-ball.jpg\n",
            "[%] File Downloaded !\n",
            "\n",
            "[%] Downloading Image #27 from https://hdlatestwallpaper.com/wp-content/uploads/2018/05/New-soccer-ball-HD-wallpaper.jpg\n",
            "[%] File Downloaded !\n",
            "\n",
            "[%] Downloading Image #28 from https://www.whistleblowingservice.com.au/wp-content/uploads/2020/01/Soccer-Ball.png\n",
            "[%] File Downloaded !\n",
            "\n",
            "[%] Downloading Image #29 from https://www.soccerpro.com/wp-content/uploads/sc3283_455_nike_barca_prestige_ball_02.jpg\n",
            "[%] File Downloaded !\n",
            "\n",
            "[%] Downloading Image #30 from https://www.rebelsport.com.au/dw/image/v2/BBRV_PRD/on/demandware.static/-/Sites-srg-internal-master-catalog/default/dw57c77229/images/54458401/Rebel_54458401_hi-res.jpg?sw=1000&amp;sh=1000&amp;sm=fit\n",
            "[%] File Downloaded !\n",
            "\n",
            "time: 9.84 s (started: 2021-02-21 09:49:40 +00:00)\n"
          ],
          "name": "stdout"
        }
      ]
    },
    {
      "cell_type": "code",
      "metadata": {
        "colab": {
          "base_uri": "https://localhost:8080/"
        },
        "id": "q3K5y98rYoE3",
        "outputId": "61a94bc6-2714-41e3-c187-4bfe40a5ff9d"
      },
      "source": [
        "downloader.download(\"Cricket bats\", limit = 30, output_dir = \"images\", \r\n",
        "                    adult_filter_off = True)"
      ],
      "execution_count": 5,
      "outputs": [
        {
          "output_type": "stream",
          "text": [
            "\n",
            "\n",
            "[!!]Indexing page: 1\n",
            "\n",
            "[%] Indexed 30 Images on Page 1.\n",
            "\n",
            "===============================================\n",
            "\n",
            "[%] Downloading Image #1 from https://ethlits.com/media/catalog/product/cache/1/image/1200x/999c6c65e255d7531240810e30f61e61/s/g/sg_hp33_english_willow_cricket_bat_size_sh_ethlits.com_3_.jpg\n",
            "[%] File Downloaded !\n",
            "\n",
            "[%] Downloading Image #2 from https://hirakraja.com/2096-thickbox_default/ishan-x1-english-willow-cricket-bat.jpg\n",
            "[%] File Downloaded !\n",
            "\n",
            "[%] Downloading Image #3 from https://ethlits.com/media/catalog/product/cache/1/thumbnail/4f9502202b77059316180a23e4857517/s/s/ss_vintage_3.0_english_willow_cricket_bat_size_sh_ethlits.com_1_.jpg\n",
            "[%] File Downloaded !\n",
            "\n",
            "[%] Downloading Image #4 from https://www.cricketequipmentusa.com/content/images/thumbs/0003909_cricket-bat-english-willow-neon-dxm-404-ttnow-short-handle-by-gunn-moore.jpeg\n",
            "[%] File Downloaded !\n",
            "\n",
            "[%] Downloading Image #5 from https://blog.playo.co/wp-content/uploads/2017/08/Adidas-Incurza.jpg\n",
            "[%] File Downloaded !\n",
            "\n",
            "[%] Downloading Image #6 from https://www.cricketequipmentusa.com/content/images/thumbs/0003910_cricket-bat-english-willow-mana-f45-dxm-404-ttnow-by-gunn-moore.jpeg\n",
            "[%] File Downloaded !\n",
            "\n",
            "[%] Downloading Image #7 from https://www.khelmart.com/Cricket/zoomer_Image/SM_CBT_00002_large.jpg\n",
            "[%] File Downloaded !\n",
            "\n",
            "[%] Downloading Image #8 from http://www.khelmart.com/Cricket/zoomer_Image/KK_EW_000089_large.jpg\n",
            "[%] File Downloaded !\n",
            "\n",
            "[%] Downloading Image #9 from https://res-1.cloudinary.com/s247/image/upload/c_pad,dpr_1.0,f_auto,h_800,q_auto,w_800/media/catalog/product/c/d/cd0609dfa-281b-4b65-a831-d7c33bd0e797_1000_category.jpg\n",
            "[%] File Downloaded !\n",
            "\n",
            "[%] Downloading Image #10 from https://ethlits.com/media/catalog/product/cache/1/thumbnail/4f9502202b77059316180a23e4857517/s/g/sg_tripple_crown_xtreme_english_willow_cricket_bat_size_sh_ethlits.com_1_.jpg\n",
            "[%] File Downloaded !\n",
            "\n",
            "[%] Downloading Image #11 from https://clearancecricketstore.com.au/wp-content/uploads/2019/09/cae5c802-4018-4ba2-8f05-f047b1600054-1.jpeg\n",
            "[%] File Downloaded !\n",
            "\n",
            "[%] Downloading Image #12 from http://khelmart.com/Cricket/zoomer_Image/KK_EW_000017_large.jpg\n",
            "[%] File Downloaded !\n",
            "\n",
            "[%] Downloading Image #13 from https://n1.sdlcdn.com/imgs/a/q/2/Koxton-Kashmir-Willow-Cricket-Bat-SDL526020467-1-d8a78.jpg\n",
            "[%] File Downloaded !\n",
            "\n",
            "[%] Downloading Image #14 from https://www.khelmart.com/Cricket/zoomer_Image/TH_TCB_0001_J_large.jpg\n",
            "[%] File Downloaded !\n",
            "\n",
            "[%] Downloading Image #15 from https://n2.sdlcdn.com/imgs/g/s/s/MRF-Poplar-Willow-Cricket-Bat-SDL563450347-1-f21df.jpeg\n",
            "[%] File Downloaded !\n",
            "\n",
            "[%] Downloading Image #16 from https://www.cricketequipmentusa.com/content/images/thumbs/0003517_cricket-bat-english-willow-surge-300-by-kookaburra.jpeg\n",
            "[%] File Downloaded !\n",
            "\n",
            "[%] Downloading Image #17 from https://n2.sdlcdn.com/imgs/a/n/8/Sunny-Sports-Cricket-Bat-SDL908958782-1-cfe83.jpg\n",
            "[%] File Downloaded !\n",
            "\n",
            "[%] Downloading Image #18 from https://n3.sdlcdn.com/imgs/g/t/b/spartan_blue_popular_willow_cricket_SDL568742857_1_ccf26-4b5eb.jpeg\n",
            "[%] File Downloaded !\n",
            "\n",
            "[%] Downloading Image #19 from https://bucket.pk/wp-content/uploads/2019/02/HS-41-Cricket-Bat-a.jpg\n",
            "[%] File Downloaded !\n",
            "\n",
            "[%] Downloading Image #20 from https://58589f9adfe5217df599-48fa2bef92505ce63e77af3040c61dbc.ssl.cf2.rackcdn.com/88f1d252-a910-4239-85ae-32c85646d410__L.jpg\n",
            "[%] File Downloaded !\n",
            "\n",
            "[%] Downloading Image #21 from https://www.cricket-hockey.com/14984-large_default/kookaburra-charge-40-cricket-bat-2019.jpg\n",
            "[%] File Downloaded !\n",
            "\n",
            "[%] Downloading Image #22 from https://www.khelmart.com/Cricket/zoomer_Image/GM_EN_00016_large.jpg\n",
            "[%] File Downloaded !\n",
            "\n",
            "[%] Downloading Image #23 from https://n3.sdlcdn.com/imgs/i/h/e/CEAT-KASHMIR-WILLOW-CRICKET-BAT-SDL023104939-1-7c8bd.jpeg\n",
            "[%] File Downloaded !\n",
            "\n",
            "[%] Downloading Image #24 from http://khelmart.org/wp-content/uploads/2013/09/SG-Best-5-Cricket-bats.jpg\n",
            "[%] File Downloaded !\n",
            "\n",
            "[%] Downloading Image #25 from https://www.poobienaidoos.co.za/wp-content/uploads/2019/07/9BURNBPOW-1.jpg\n",
            "[%] File Downloaded !\n",
            "\n",
            "[%] Downloading Image #26 from https://n2.sdlcdn.com/imgs/b/l/9/Sunley-Pro-Cricket-Bat-SDL106409902-1-2c358.jpg\n",
            "[%] File Downloaded !\n",
            "\n",
            "[%] Downloading Image #27 from https://www.prodirectcricket.com/ProductImages/Main/V3_1_Main_0598621.jpg\n",
            "[!] Issue getting: https://www.prodirectcricket.com/ProductImages/Main/V3_1_Main_0598621.jpg\n",
            "[!] Error:: HTTP Error 403: Forbidden\n",
            "[%] Downloading Image #27 from https://n4.sdlcdn.com/imgs/g/j/9/nike-poplar-cricket-bat-SDL871806647-1-3c53a.jpeg\n",
            "[%] File Downloaded !\n",
            "\n",
            "[%] Downloading Image #28 from https://www.a1trophies.com/images/product/large/682_2_.jpg\n",
            "[%] File Downloaded !\n",
            "\n",
            "[%] Downloading Image #29 from https://edsports.ie/wp-content/uploads/2015/01/kookaburra-surge-800-cricket-bat-1.jpg\n",
            "[%] File Downloaded !\n",
            "\n",
            "\n",
            "\n",
            "[!!]Indexing page: 2\n",
            "\n",
            "[%] Indexed 35 Images on Page 2.\n",
            "\n",
            "===============================================\n",
            "\n",
            "[%] Downloading Image #30 from https://ethlits.com/media/catalog/product/cache/1/image/1200x/999c6c65e255d7531240810e30f61e61/s/g/sg_hp33_english_willow_cricket_bat_size_sh_ethlits.com_3_.jpg\n",
            "[%] File Downloaded !\n",
            "\n",
            "\n",
            "\n",
            "[%] Done. Downloaded 30 images.\n",
            "\n",
            "===============================================\n",
            "\n",
            "time: 19.6 s (started: 2021-02-21 09:49:49 +00:00)\n"
          ],
          "name": "stdout"
        }
      ]
    },
    {
      "cell_type": "code",
      "metadata": {
        "colab": {
          "base_uri": "https://localhost:8080/"
        },
        "id": "KksqA8KzZPOc",
        "outputId": "ba7f6a3d-695c-4aa3-b5c5-4db4ca3d5727"
      },
      "source": [
        "downloader.download(\"Sunflower\", limit = 50, output_dir = \"images\", \r\n",
        "                    adult_filter_off = True)"
      ],
      "execution_count": 6,
      "outputs": [
        {
          "output_type": "stream",
          "text": [
            "\n",
            "\n",
            "[!!]Indexing page: 1\n",
            "\n",
            "[%] Indexed 50 Images on Page 1.\n",
            "\n",
            "===============================================\n",
            "\n",
            "[%] Downloading Image #1 from https://www.almanac.com/sites/default/files/image_nodes/sunflower-1627193_1920.jpg\n",
            "[%] File Downloaded !\n",
            "\n",
            "[%] Downloading Image #2 from https://upload.wikimedia.org/wikipedia/commons/thumb/4/40/Sunflower_sky_backdrop.jpg/1200px-Sunflower_sky_backdrop.jpg\n",
            "[Error]Invalid image, not saving https://upload.wikimedia.org/wikipedia/commons/thumb/4/40/Sunflower_sky_backdrop.jpg/1200px-Sunflower_sky_backdrop.jpg\n",
            "\n",
            "[!] Issue getting: https://upload.wikimedia.org/wikipedia/commons/thumb/4/40/Sunflower_sky_backdrop.jpg/1200px-Sunflower_sky_backdrop.jpg\n",
            "[!] Error:: No active exception to reraise\n",
            "[%] Downloading Image #2 from https://www.agricol.co.za/wp-content/uploads/2015/06/AGSUN_01-min1.jpeg\n",
            "[%] File Downloaded !\n",
            "\n",
            "[%] Downloading Image #3 from https://upload.wikimedia.org/wikipedia/commons/a/a9/A_sunflower.jpg\n",
            "[%] File Downloaded !\n",
            "\n",
            "[%] Downloading Image #4 from https://www.shutterbug.com/images/photo_post/%5Buid%5D/N9010100_mod4.jpg\n",
            "[%] File Downloaded !\n",
            "\n",
            "[%] Downloading Image #5 from https://www.agriorbit.com/wp-content/uploads/2019/05/sunflower-3550693_1920-1.jpg\n",
            "[%] File Downloaded !\n",
            "\n",
            "[%] Downloading Image #6 from https://worldoffloweringplants.com/wp-content/uploads/2014/08/The-Story-of-the-Sunflower.jpg\n",
            "[%] File Downloaded !\n",
            "\n",
            "[%] Downloading Image #7 from https://content.thriveglobal.in/wp-content/uploads/sites/3/2019/12/sunflower-field-3620919_1920.jpg\n",
            "[%] File Downloaded !\n",
            "\n",
            "[%] Downloading Image #8 from https://www.treasuredhavenfarm.com/images/Sunflower9.jpg\n",
            "[%] File Downloaded !\n",
            "\n",
            "[%] Downloading Image #9 from https://www.lionsroar.com/wp-content/uploads/2017/08/sunflower-field.jpg\n",
            "[%] File Downloaded !\n",
            "\n",
            "[%] Downloading Image #10 from https://chilliwacksunflowerfest.com/wp-content/uploads/2018/08/IMG_8538.jpg\n",
            "[%] File Downloaded !\n",
            "\n",
            "[%] Downloading Image #11 from https://www.batterypark.tv/wp-content/uploads/2015/08/sunflower-head-8-25-2015.jpg\n",
            "[%] File Downloaded !\n",
            "\n",
            "[%] Downloading Image #12 from http://4.bp.blogspot.com/-NB_KmZdxrUA/Tp1NGCQ1U6I/AAAAAAAADPY/FnvLVYuEgdU/s1600/sunflower.jpg\n",
            "[%] File Downloaded !\n",
            "\n",
            "[%] Downloading Image #13 from http://bobber.discoverwisconsin.com/media/sunflowercloseup-1024x682.jpg\n",
            "[%] File Downloaded !\n",
            "\n",
            "[%] Downloading Image #14 from https://www.seriouslyflowers.com/wp-content/uploads/2017/10/Large-Sunflower-600x433.jpg\n",
            "[%] File Downloaded !\n",
            "\n",
            "[%] Downloading Image #15 from https://lovewiseonline.org/wp-content/uploads/2019/03/sunflower-field.jpg\n",
            "[%] File Downloaded !\n",
            "\n",
            "[%] Downloading Image #16 from https://tjsgardendotcom1.files.wordpress.com/2012/06/lemon-queen-variety-sunflower.jpg?w=840&amp;h=560\n",
            "[%] File Downloaded !\n",
            "\n",
            "[%] Downloading Image #17 from https://www.agweek.com/incoming/4889174-ahu23k-1ZpdBiiXlpyAeWh4vcDV6x_KDBc_iqIkm.jpg/alternates/BASE_LANDSCAPE/1ZpdBiiXlpyAeWh4vcDV6x_KDBc_iqIkm.jpg\n",
            "[%] File Downloaded !\n",
            "\n",
            "[%] Downloading Image #18 from http://alliedartsyakima.org/wp-content/uploads/2019/04/81iT3vAlWfL._SL1500_.jpg\n",
            "[Error]Invalid image, not saving http://alliedartsyakima.org/wp-content/uploads/2019/04/81iT3vAlWfL._SL1500_.jpg\n",
            "\n",
            "[!] Issue getting: http://alliedartsyakima.org/wp-content/uploads/2019/04/81iT3vAlWfL._SL1500_.jpg\n",
            "[!] Error:: No active exception to reraise\n",
            "[%] Downloading Image #18 from https://wallpaperplay.com/walls/full/6/7/e/254843.jpg\n",
            "[%] File Downloaded !\n",
            "\n",
            "[%] Downloading Image #19 from https://hips.hearstapps.com/hmg-prod.s3.amazonaws.com/images/sunflower-at-sunset-royalty-free-image-1594728646.jpg?crop=1.00xw:0.754xh;0,0.188xh&amp;resize=1200:*\n",
            "[%] File Downloaded !\n",
            "\n",
            "[%] Downloading Image #20 from https://cdn.cnn.com/cnnnext/dam/assets/190815135835-03-north-dakota-sunflower-super-tease.jpg\n",
            "[%] File Downloaded !\n",
            "\n",
            "[%] Downloading Image #21 from http://southeastagnet.com/wp-content/uploads/2017/08/Sunflower.jpg\n",
            "[%] File Downloaded !\n",
            "\n",
            "[%] Downloading Image #22 from https://bloximages.newyork1.vip.townnews.com/heraldmailmedia.com/content/tncms/assets/v3/editorial/8/cc/8ccdc4c4-c5d4-11e9-be6c-ef77279088fe/5d60318dbb6b6.image.jpg?resize=1200%2C799\n",
            "[%] File Downloaded !\n",
            "\n",
            "[%] Downloading Image #23 from http://genomics-entrepreneurship.sites.olt.ubc.ca/files/2013/01/sunflower-940x704.jpg\n",
            "[%] File Downloaded !\n",
            "\n",
            "[%] Downloading Image #24 from https://softsolder.files.wordpress.com/2015/09/img_5701-sunflower-with-bumblebee-detail.jpg\n",
            "[%] File Downloaded !\n",
            "\n",
            "[%] Downloading Image #25 from https://www.gardenzeus.com/wp-content/uploads/Sunflower-P1140893.jpg\n",
            "[%] File Downloaded !\n",
            "\n",
            "[%] Downloading Image #26 from http://wallsdesk.com/wp-content/uploads/2017/01/Sunflower-HD-Desktop.jpg\n",
            "[%] File Downloaded !\n",
            "\n",
            "[%] Downloading Image #27 from https://tau0.files.wordpress.com/2013/05/sunflower.jpg\n",
            "[%] File Downloaded !\n",
            "\n",
            "[%] Downloading Image #28 from https://images.unsplash.com/photo-1540039906769-84cf3d448bc1?ixlib=rb-1.2.1&amp;ixid=eyJhcHBfaWQiOjEyMDd9&amp;auto=format&amp;fit=crop&amp;w=1000&amp;q=80\n",
            "[%] File Downloaded !\n",
            "\n",
            "[%] Downloading Image #29 from https://www.swallowtailgardenseeds.com/flowers/sunflowers/sunflower-solar-flash.jpeg\n",
            "[%] File Downloaded !\n",
            "\n",
            "[%] Downloading Image #30 from https://prairiecalifornian.com/wp-content/uploads/2014/09/Sunflower-Photo-1.jpg\n",
            "[%] File Downloaded !\n",
            "\n",
            "[%] Downloading Image #31 from http://higgledygarden.com/wp-content/uploads/2015/01/Sunflower-Field.jpg\n",
            "[%] File Downloaded !\n",
            "\n",
            "[%] Downloading Image #32 from http://beepink.com/wp-content/uploads/2013/01/sunflower.png\n",
            "[%] File Downloaded !\n",
            "\n",
            "[%] Downloading Image #33 from https://www.photos-public-domain.com/wp-content/uploads/2017/08/yellow-sunflower.jpg\n",
            "[%] File Downloaded !\n",
            "\n",
            "[%] Downloading Image #34 from https://p63zw5onad-flywheel.netdna-ssl.com/wp-content/uploads/2017/10/annual_sunflower-68-1.jpg\n",
            "[%] File Downloaded !\n",
            "\n",
            "[%] Downloading Image #35 from https://www.dayliliesinaustralia.com.au/wp-content/uploads/2019/04/Sunflower.jpg\n",
            "[%] File Downloaded !\n",
            "\n",
            "[%] Downloading Image #36 from https://npsot.org/wp/wp-content/uploads/2012/07/bloomPA020032.jpg\n",
            "[%] File Downloaded !\n",
            "\n",
            "[%] Downloading Image #37 from https://www.lovethegarden.com/sites/default/files/content/articles/UK_sunflower-head-closeup.jpg\n",
            "[%] File Downloaded !\n",
            "\n",
            "[%] Downloading Image #38 from http://botany.one/wp-content/uploads/2016/01/Sunflower.jpg\n",
            "[%] File Downloaded !\n",
            "\n",
            "[%] Downloading Image #39 from https://www.gardeningknowhow.com/wp-content/uploads/2007/08/annual-sunflower.jpg\n",
            "[%] File Downloaded !\n",
            "\n",
            "[%] Downloading Image #40 from https://i2.wp.com/www.wintersexpress.com/files/2019/08/IMG_4605.sunflower.jpg?fit=2546%2C3363&amp;ssl=1\n",
            "[%] File Downloaded !\n",
            "\n",
            "[%] Downloading Image #41 from https://morningchores.com/wp-content/uploads/2020/04/mammoth-russian-sunflower-800x533.jpg\n",
            "[%] File Downloaded !\n",
            "\n",
            "[%] Downloading Image #42 from https://www.scienceabc.com/wp-content/uploads/2015/09/Sunflower-Pollination.jpg\n",
            "[%] File Downloaded !\n",
            "\n",
            "[%] Downloading Image #43 from https://weatherfarm.com/wp-content/uploads/2017/10/sunflower-standrews.jpg\n",
            "[%] File Downloaded !\n",
            "\n",
            "[%] Downloading Image #44 from https://2.bp.blogspot.com/-sCIhzJbKCEQ/UHTq0nTUbXI/AAAAAAAAV0w/1ytxWcmAy5o/s1600/Orange_sunflower.jpg\n",
            "[%] File Downloaded !\n",
            "\n",
            "[%] Downloading Image #45 from http://lovelaughterandliteracy.com/wp-content/uploads/2016/10/sunflower-9-1024x683.jpg\n",
            "[%] File Downloaded !\n",
            "\n",
            "[%] Downloading Image #46 from https://nurserynature.com/1362-large_default/sunflower-plant-seasonal-winter-flower.jpg\n",
            "[%] File Downloaded !\n",
            "\n",
            "[%] Downloading Image #47 from https://s3.amazonaws.com/cdn.gurneys.com/images/800/70530.jpg\n",
            "[%] File Downloaded !\n",
            "\n",
            "[%] Downloading Image #48 from https://3c1703fe8d.site.internapcdn.net/newman/gfx/news/hires/2016/1-howsunflower.jpg\n",
            "[%] File Downloaded !\n",
            "\n",
            "\n",
            "\n",
            "[!!]Indexing page: 2\n",
            "\n",
            "[%] Indexed 35 Images on Page 2.\n",
            "\n",
            "===============================================\n",
            "\n",
            "[%] Downloading Image #49 from https://www.almanac.com/sites/default/files/image_nodes/sunflower-1627193_1920.jpg\n",
            "[%] File Downloaded !\n",
            "\n",
            "[%] Downloading Image #50 from https://upload.wikimedia.org/wikipedia/commons/thumb/4/40/Sunflower_sky_backdrop.jpg/1200px-Sunflower_sky_backdrop.jpg\n",
            "[Error]Invalid image, not saving https://upload.wikimedia.org/wikipedia/commons/thumb/4/40/Sunflower_sky_backdrop.jpg/1200px-Sunflower_sky_backdrop.jpg\n",
            "\n",
            "[!] Issue getting: https://upload.wikimedia.org/wikipedia/commons/thumb/4/40/Sunflower_sky_backdrop.jpg/1200px-Sunflower_sky_backdrop.jpg\n",
            "[!] Error:: No active exception to reraise\n",
            "[%] Downloading Image #50 from https://www.agricol.co.za/wp-content/uploads/2015/06/AGSUN_01-min1.jpeg\n",
            "[%] File Downloaded !\n",
            "\n",
            "\n",
            "\n",
            "[%] Done. Downloaded 50 images.\n",
            "\n",
            "===============================================\n",
            "\n",
            "time: 35.9 s (started: 2021-02-21 09:50:09 +00:00)\n"
          ],
          "name": "stdout"
        }
      ]
    },
    {
      "cell_type": "code",
      "metadata": {
        "colab": {
          "base_uri": "https://localhost:8080/"
        },
        "id": "xRXHIT1rZ4UO",
        "outputId": "8d3fb554-17d5-44e9-956f-52250c766f0b"
      },
      "source": [
        "# Preprocessing\r\n",
        "# 1.Resize\r\n",
        "# 2.Flatten"
      ],
      "execution_count": 7,
      "outputs": [
        {
          "output_type": "stream",
          "text": [
            "time: 2.43 ms (started: 2021-02-21 09:50:45 +00:00)\n"
          ],
          "name": "stdout"
        }
      ]
    },
    {
      "cell_type": "code",
      "metadata": {
        "colab": {
          "base_uri": "https://localhost:8080/"
        },
        "id": "mWAEpMW8gMk7",
        "outputId": "ace3425b-e46e-419b-fd5f-3de9274ae089"
      },
      "source": [
        "import os\r\n",
        "import matplotlib.pyplot as plt\r\n",
        "import numpy as np\r\n",
        "from skimage.io import imread\r\n",
        "from skimage.transform import resize"
      ],
      "execution_count": 8,
      "outputs": [
        {
          "output_type": "stream",
          "text": [
            "time: 590 ms (started: 2021-02-21 09:50:45 +00:00)\n"
          ],
          "name": "stdout"
        }
      ]
    },
    {
      "cell_type": "code",
      "metadata": {
        "colab": {
          "base_uri": "https://localhost:8080/"
        },
        "id": "-IX1BpqlgPOs",
        "outputId": "6537a0cd-4120-4ea5-fdeb-b3257e68ff1d"
      },
      "source": [
        "# Converting matrix(multi dim array) into a vector(single dim vector) using flatt\r\n",
        "target = []\r\n",
        "images = []\r\n",
        "flat_data = []\r\n",
        "\r\n",
        "Data_dir = \"/content/images\"\r\n",
        "Categories = ['Soccer ball', 'Cricket bats', 'Sunflower']\r\n",
        "\r\n",
        "for category in Categories:\r\n",
        "  class_num = Categories.index(category) # Lable encoding the values\r\n",
        "  path = os.path.join(Data_dir,category) # Creating path to use images in each category\r\n",
        "  for img in os.listdir(path):\r\n",
        "    img_arr = imread(os.path.join(path,img))\r\n",
        "\r\n",
        "    img_resize = resize(img_arr, (150,150,3)) # Resizing\r\n",
        "    # Resizing automatically normalizes the values from 0 to 1\r\n",
        "    \r\n",
        "    flat_data.append(img_resize.flatten()) # Flattening\r\n",
        "    \r\n",
        "    images.append(img_resize)\r\n",
        "    target.append(class_num)\r\n",
        "\r\n",
        "flat_data = np.array(flat_data)\r\n",
        "target = np.array(target)\r\n",
        "images = np.array(images)"
      ],
      "execution_count": 9,
      "outputs": [
        {
          "output_type": "stream",
          "text": [
            "time: 2min 13s (started: 2021-02-21 09:50:46 +00:00)\n"
          ],
          "name": "stdout"
        }
      ]
    },
    {
      "cell_type": "code",
      "metadata": {
        "colab": {
          "base_uri": "https://localhost:8080/",
          "height": 300
        },
        "id": "zd8bymcbgUoc",
        "outputId": "9d30e4a3-0a69-47de-c14d-67579c988cf0"
      },
      "source": [
        "unique, count = np.unique(target, return_counts=True)\r\n",
        "plt.bar(Categories, count)"
      ],
      "execution_count": 10,
      "outputs": [
        {
          "output_type": "execute_result",
          "data": {
            "text/plain": [
              "<BarContainer object of 3 artists>"
            ]
          },
          "metadata": {
            "tags": []
          },
          "execution_count": 10
        },
        {
          "output_type": "display_data",
          "data": {
            "image/png": "[encoded data removed]",
            "text/plain": [
              "<Figure size 432x288 with 1 Axes>"
            ]
          },
          "metadata": {
            "tags": [],
            "needs_background": "light"
          }
        },
        {
          "output_type": "stream",
          "text": [
            "time: 210 ms (started: 2021-02-21 09:52:59 +00:00)\n"
          ],
          "name": "stdout"
        }
      ]
    },
    {
      "cell_type": "code",
      "metadata": {
        "colab": {
          "base_uri": "https://localhost:8080/"
        },
        "id": "jdo05wTVlMxC",
        "outputId": "0a9ae958-5871-48e5-e9e0-be5771234bd6"
      },
      "source": [
        "# Splitting data into training and testing\r\n",
        "from sklearn.model_selection import train_test_split\r\n",
        "\r\n",
        "x_train,x_test,y_train,y_test = train_test_split(flat_data, \r\n",
        "                                                 target, test_size = 0.3, random_state = 7)"
      ],
      "execution_count": 11,
      "outputs": [
        {
          "output_type": "stream",
          "text": [
            "time: 149 ms (started: 2021-02-21 09:53:00 +00:00)\n"
          ],
          "name": "stdout"
        }
      ]
    },
    {
      "cell_type": "code",
      "metadata": {
        "colab": {
          "base_uri": "https://localhost:8080/"
        },
        "id": "ERMBj72gl-gM",
        "outputId": "a5e1e252-1a18-4476-c381-3869b8f85b96"
      },
      "source": [
        "# Grid search\r\n",
        "from sklearn.model_selection import GridSearchCV\r\n",
        "from sklearn import svm\r\n",
        "\r\n",
        "param_grid = [\r\n",
        "              {'C' : [1,10,100,1000], 'kernel' : ['linear']},\r\n",
        "              {'C' : [1,10,100,1000], 'kernel' : ['rbf'], 'gamma' :[0.001,0.0001]},\r\n",
        "]\r\n",
        "\r\n",
        "svc = svm.SVC(probability = True) # we enable probablity inoder display the percentage\r\n",
        "clf = GridSearchCV(svc,param_grid)\r\n",
        "clf.fit(x_train,y_train)"
      ],
      "execution_count": 12,
      "outputs": [
        {
          "output_type": "execute_result",
          "data": {
            "text/plain": [
              "GridSearchCV(cv=None, error_score=nan,\n",
              "             estimator=SVC(C=1.0, break_ties=False, cache_size=200,\n",
              "                           class_weight=None, coef0=0.0,\n",
              "                           decision_function_shape='ovr', degree=3,\n",
              "                           gamma='scale', kernel='rbf', max_iter=-1,\n",
              "                           probability=True, random_state=None, shrinking=True,\n",
              "                           tol=0.001, verbose=False),\n",
              "             iid='deprecated', n_jobs=None,\n",
              "             param_grid=[{'C': [1, 10, 100, 1000], 'kernel': ['linear']},\n",
              "                         {'C': [1, 10, 100, 1000], 'gamma': [0.001, 0.0001],\n",
              "                          'kernel': ['rbf']}],\n",
              "             pre_dispatch='2*n_jobs', refit=True, return_train_score=False,\n",
              "             scoring=None, verbose=0)"
            ]
          },
          "metadata": {
            "tags": []
          },
          "execution_count": 12
        },
        {
          "output_type": "stream",
          "text": [
            "time: 3min 8s (started: 2021-02-21 09:53:00 +00:00)\n"
          ],
          "name": "stdout"
        }
      ]
    },
    {
      "cell_type": "code",
      "metadata": {
        "colab": {
          "base_uri": "https://localhost:8080/"
        },
        "id": "MkKRos7JrXTc",
        "outputId": "81238103-5ef4-4b8e-9881-718f742f970c"
      },
      "source": [
        "y_pred = clf.predict(x_test)\r\n",
        "y_pred"
      ],
      "execution_count": 13,
      "outputs": [
        {
          "output_type": "execute_result",
          "data": {
            "text/plain": [
              "array([2, 2, 2, 2, 2, 1, 2, 2, 0, 1, 2, 1, 0, 1, 2, 2, 2, 0, 0, 0, 2, 2,\n",
              "       0, 2, 2, 0, 1, 1, 2, 1, 0, 2, 0, 2])"
            ]
          },
          "metadata": {
            "tags": []
          },
          "execution_count": 13
        },
        {
          "output_type": "stream",
          "text": [
            "time: 270 ms (started: 2021-02-21 09:56:08 +00:00)\n"
          ],
          "name": "stdout"
        }
      ]
    },
    {
      "cell_type": "code",
      "metadata": {
        "colab": {
          "base_uri": "https://localhost:8080/"
        },
        "id": "ruMhmVc0sH-M",
        "outputId": "f2fe1fff-42bf-4b08-f0fa-d41966768d86"
      },
      "source": [
        "y_test"
      ],
      "execution_count": 14,
      "outputs": [
        {
          "output_type": "execute_result",
          "data": {
            "text/plain": [
              "array([2, 2, 2, 2, 2, 1, 2, 2, 0, 1, 2, 1, 0, 1, 2, 2, 2, 0, 0, 0, 2, 2,\n",
              "       0, 2, 0, 0, 1, 1, 1, 1, 0, 2, 0, 2])"
            ]
          },
          "metadata": {
            "tags": []
          },
          "execution_count": 14
        },
        {
          "output_type": "stream",
          "text": [
            "time: 8.3 ms (started: 2021-02-21 09:56:09 +00:00)\n"
          ],
          "name": "stdout"
        }
      ]
    },
    {
      "cell_type": "code",
      "metadata": {
        "colab": {
          "base_uri": "https://localhost:8080/"
        },
        "id": "_i-taUwpsMDI",
        "outputId": "354aba60-cd59-46fc-8701-05139d56bffc"
      },
      "source": [
        "from sklearn.metrics import accuracy_score,confusion_matrix"
      ],
      "execution_count": 15,
      "outputs": [
        {
          "output_type": "stream",
          "text": [
            "time: 3.34 ms (started: 2021-02-21 09:56:09 +00:00)\n"
          ],
          "name": "stdout"
        }
      ]
    },
    {
      "cell_type": "code",
      "metadata": {
        "colab": {
          "base_uri": "https://localhost:8080/"
        },
        "id": "Nfw4HkS0sVC7",
        "outputId": "949f735f-75f0-4fb3-8a32-6eefe54a2b7d"
      },
      "source": [
        "accuracy_score(y_pred, y_test)"
      ],
      "execution_count": 16,
      "outputs": [
        {
          "output_type": "execute_result",
          "data": {
            "text/plain": [
              "0.9411764705882353"
            ]
          },
          "metadata": {
            "tags": []
          },
          "execution_count": 16
        },
        {
          "output_type": "stream",
          "text": [
            "time: 9.04 ms (started: 2021-02-21 09:56:09 +00:00)\n"
          ],
          "name": "stdout"
        }
      ]
    },
    {
      "cell_type": "code",
      "metadata": {
        "colab": {
          "base_uri": "https://localhost:8080/"
        },
        "id": "dVAuRBfvsZyg",
        "outputId": "f6bb54c2-da72-4000-9651-616a86b778bb"
      },
      "source": [
        "confusion_matrix(y_pred,y_test)"
      ],
      "execution_count": 17,
      "outputs": [
        {
          "output_type": "execute_result",
          "data": {
            "text/plain": [
              "array([[ 9,  0,  0],\n",
              "       [ 0,  7,  0],\n",
              "       [ 1,  1, 16]])"
            ]
          },
          "metadata": {
            "tags": []
          },
          "execution_count": 17
        },
        {
          "output_type": "stream",
          "text": [
            "time: 6.61 ms (started: 2021-02-21 09:56:09 +00:00)\n"
          ],
          "name": "stdout"
        }
      ]
    },
    {
      "cell_type": "code",
      "metadata": {
        "id": "yQdWirFHs2FJ",
        "colab": {
          "base_uri": "https://localhost:8080/"
        },
        "outputId": "cae5ecbc-2c1c-4377-e916-9a2b10226269"
      },
      "source": [
        "# Saving model using Pickle library\r\n",
        "import pickle\r\n",
        "pickle.dump(clf,open('img_model.p','wb'))"
      ],
      "execution_count": 18,
      "outputs": [
        {
          "output_type": "stream",
          "text": [
            "time: 101 ms (started: 2021-02-21 09:56:09 +00:00)\n"
          ],
          "name": "stdout"
        }
      ]
    },
    {
      "cell_type": "code",
      "metadata": {
        "colab": {
          "base_uri": "https://localhost:8080/"
        },
        "id": "rgUYlmutv5zF",
        "outputId": "cea41c04-c202-4f8a-8dea-8a8129658c6f"
      },
      "source": [
        "model = pickle.load(open('img_model.p','rb'))"
      ],
      "execution_count": 19,
      "outputs": [
        {
          "output_type": "stream",
          "text": [
            "time: 27.6 ms (started: 2021-02-21 09:56:09 +00:00)\n"
          ],
          "name": "stdout"
        }
      ]
    },
    {
      "cell_type": "code",
      "metadata": {
        "colab": {
          "base_uri": "https://localhost:8080/",
          "height": 359
        },
        "id": "DKGnD6wZw9ai",
        "outputId": "46558356-6c06-41b2-a36f-a696238954a3"
      },
      "source": [
        "flat_data = []\r\n",
        "url = input('Enter URL of image ')\r\n",
        "img = imread(url)\r\n",
        "img_resize = resize(img,(150,150,3))\r\n",
        "flat_data.append(img_resize.flatten())\r\n",
        "flat_data = np.array(flat_data)\r\n",
        "print(img.shape)\r\n",
        "plt.imshow(img_resize)\r\n",
        "y_out = model.predict(flat_data)\r\n",
        "y_out = Categories[y_out[0]] # It will be in 2D so we should specify '0' index\r\n",
        "print(f'This is a {y_out.capitalize()} image')"
      ],
      "execution_count": 20,
      "outputs": [
        {
          "output_type": "stream",
          "text": [
            "Enter URL of image https://www.allroundercricket.com/media/catalog/product/cache/2/image/9df78eab33525d08d6e5fb8d27136e95/2/a/2a20300c-pace-pro.jpg\n",
            "(1000, 1000, 3)\n",
            "This is a Cricket bats image\n"
          ],
          "name": "stdout"
        },
        {
          "output_type": "display_data",
          "data": {
            "image/png": "[encoded data removed]",
            "text/plain": [
              "<Figure size 432x288 with 1 Axes>"
            ]
          },
          "metadata": {
            "tags": [],
            "needs_background": "light"
          }
        },
        {
          "output_type": "stream",
          "text": [
            "time: 5min 21s (started: 2021-02-21 09:56:09 +00:00)\n"
          ],
          "name": "stdout"
        }
      ]
    },
    {
      "cell_type": "code",
      "metadata": {
        "colab": {
          "base_uri": "https://localhost:8080/"
        },
        "id": "ldHIo_Iq2FZe",
        "outputId": "445955a2-b96a-4d2e-dc56-959e1faf4e87"
      },
      "source": [
        "!pip install streamlit\r\n",
        "\r\n",
        "!pip install pyngrok\r\n",
        "from pyngrok import ngrok"
      ],
      "execution_count": 21,
      "outputs": [
        {
          "output_type": "stream",
          "text": [
            "Requirement already satisfied: streamlit in /usr/local/lib/python3.6/dist-packages (0.76.0)\n",
            "Requirement already satisfied: numpy in /usr/local/lib/python3.6/dist-packages (from streamlit) (1.19.5)\n",
            "Requirement already satisfied: watchdog; platform_system != \"Darwin\" in /usr/local/lib/python3.6/dist-packages (from streamlit) (2.0.1)\n",
            "Requirement already satisfied: click>=7.0 in /usr/local/lib/python3.6/dist-packages (from streamlit) (7.1.2)\n",
            "Requirement already satisfied: cachetools>=4.0 in /usr/local/lib/python3.6/dist-packages (from streamlit) (4.2.1)\n",
            "Requirement already satisfied: validators in /usr/local/lib/python3.6/dist-packages (from streamlit) (0.18.2)\n",
            "Requirement already satisfied: astor in /usr/local/lib/python3.6/dist-packages (from streamlit) (0.8.1)\n",
            "Requirement already satisfied: tornado>=5.0 in /usr/local/lib/python3.6/dist-packages (from streamlit) (5.1.1)\n",
            "Requirement already satisfied: blinker in /usr/local/lib/python3.6/dist-packages (from streamlit) (1.4)\n",
            "Requirement already satisfied: protobuf!=3.11,>=3.6.0 in /usr/local/lib/python3.6/dist-packages (from streamlit) (3.12.4)\n",
            "Requirement already satisfied: pandas>=0.21.0 in /usr/local/lib/python3.6/dist-packages (from streamlit) (1.1.5)\n",
            "Requirement already satisfied: base58 in /usr/local/lib/python3.6/dist-packages (from streamlit) (2.1.0)\n",
            "Requirement already satisfied: gitpython in /usr/local/lib/python3.6/dist-packages (from streamlit) (3.1.13)\n",
            "Requirement already satisfied: altair>=3.2.0 in /usr/local/lib/python3.6/dist-packages (from streamlit) (4.1.0)\n",
            "Requirement already satisfied: pillow>=6.2.0 in /usr/local/lib/python3.6/dist-packages (from streamlit) (7.0.0)\n",
            "Requirement already satisfied: tzlocal in /usr/local/lib/python3.6/dist-packages (from streamlit) (1.5.1)\n",
            "Requirement already satisfied: python-dateutil in /usr/local/lib/python3.6/dist-packages (from streamlit) (2.8.1)\n",
            "Requirement already satisfied: pydeck>=0.1.dev5 in /usr/local/lib/python3.6/dist-packages (from streamlit) (0.6.1)\n",
            "Requirement already satisfied: pyarrow; python_version < \"3.9\" in /usr/local/lib/python3.6/dist-packages (from streamlit) (0.14.1)\n",
            "Requirement already satisfied: toml in /usr/local/lib/python3.6/dist-packages (from streamlit) (0.10.2)\n",
            "Requirement already satisfied: packaging in /usr/local/lib/python3.6/dist-packages (from streamlit) (20.9)\n",
            "Requirement already satisfied: requests in /usr/local/lib/python3.6/dist-packages (from streamlit) (2.23.0)\n",
            "Requirement already satisfied: decorator>=3.4.0 in /usr/local/lib/python3.6/dist-packages (from validators->streamlit) (4.4.2)\n",
            "Requirement already satisfied: six>=1.4.0 in /usr/local/lib/python3.6/dist-packages (from validators->streamlit) (1.15.0)\n",
            "Requirement already satisfied: setuptools in /usr/local/lib/python3.6/dist-packages (from protobuf!=3.11,>=3.6.0->streamlit) (53.0.0)\n",
            "Requirement already satisfied: pytz>=2017.2 in /usr/local/lib/python3.6/dist-packages (from pandas>=0.21.0->streamlit) (2018.9)\n",
            "Requirement already satisfied: gitdb<5,>=4.0.1 in /usr/local/lib/python3.6/dist-packages (from gitpython->streamlit) (4.0.5)\n",
            "Requirement already satisfied: entrypoints in /usr/local/lib/python3.6/dist-packages (from altair>=3.2.0->streamlit) (0.3)\n",
            "Requirement already satisfied: toolz in /usr/local/lib/python3.6/dist-packages (from altair>=3.2.0->streamlit) (0.11.1)\n",
            "Requirement already satisfied: jinja2 in /usr/local/lib/python3.6/dist-packages (from altair>=3.2.0->streamlit) (2.11.3)\n",
            "Requirement already satisfied: jsonschema in /usr/local/lib/python3.6/dist-packages (from altair>=3.2.0->streamlit) (2.6.0)\n",
            "Requirement already satisfied: ipykernel>=5.1.2; python_version >= \"3.4\" in /usr/local/lib/python3.6/dist-packages (from pydeck>=0.1.dev5->streamlit) (5.5.0)\n",
            "Requirement already satisfied: ipywidgets>=7.0.0 in /usr/local/lib/python3.6/dist-packages (from pydeck>=0.1.dev5->streamlit) (7.6.3)\n",
            "Requirement already satisfied: traitlets>=4.3.2 in /usr/local/lib/python3.6/dist-packages (from pydeck>=0.1.dev5->streamlit) (4.3.3)\n",
            "Requirement already satisfied: pyparsing>=2.0.2 in /usr/local/lib/python3.6/dist-packages (from packaging->streamlit) (2.4.7)\n",
            "Requirement already satisfied: idna<3,>=2.5 in /usr/local/lib/python3.6/dist-packages (from requests->streamlit) (2.10)\n",
            "Requirement already satisfied: certifi>=2017.4.17 in /usr/local/lib/python3.6/dist-packages (from requests->streamlit) (2020.12.5)\n",
            "Requirement already satisfied: urllib3!=1.25.0,!=1.25.1,<1.26,>=1.21.1 in /usr/local/lib/python3.6/dist-packages (from requests->streamlit) (1.24.3)\n",
            "Requirement already satisfied: chardet<4,>=3.0.2 in /usr/local/lib/python3.6/dist-packages (from requests->streamlit) (3.0.4)\n",
            "Requirement already satisfied: smmap<4,>=3.0.1 in /usr/local/lib/python3.6/dist-packages (from gitdb<5,>=4.0.1->gitpython->streamlit) (3.0.5)\n",
            "Requirement already satisfied: MarkupSafe>=0.23 in /usr/local/lib/python3.6/dist-packages (from jinja2->altair>=3.2.0->streamlit) (1.1.1)\n",
            "Requirement already satisfied: ipython>=5.0.0 in /usr/local/lib/python3.6/dist-packages (from ipykernel>=5.1.2; python_version >= \"3.4\"->pydeck>=0.1.dev5->streamlit) (5.5.0)\n",
            "Requirement already satisfied: jupyter-client in /usr/local/lib/python3.6/dist-packages (from ipykernel>=5.1.2; python_version >= \"3.4\"->pydeck>=0.1.dev5->streamlit) (5.3.5)\n",
            "Requirement already satisfied: nbformat>=4.2.0 in /usr/local/lib/python3.6/dist-packages (from ipywidgets>=7.0.0->pydeck>=0.1.dev5->streamlit) (5.1.2)\n",
            "Requirement already satisfied: widgetsnbextension~=3.5.0 in /usr/local/lib/python3.6/dist-packages (from ipywidgets>=7.0.0->pydeck>=0.1.dev5->streamlit) (3.5.1)\n",
            "Requirement already satisfied: jupyterlab-widgets>=1.0.0; python_version >= \"3.6\" in /usr/local/lib/python3.6/dist-packages (from ipywidgets>=7.0.0->pydeck>=0.1.dev5->streamlit) (1.0.0)\n",
            "Requirement already satisfied: ipython-genutils in /usr/local/lib/python3.6/dist-packages (from traitlets>=4.3.2->pydeck>=0.1.dev5->streamlit) (0.2.0)\n",
            "Requirement already satisfied: simplegeneric>0.8 in /usr/local/lib/python3.6/dist-packages (from ipython>=5.0.0->ipykernel>=5.1.2; python_version >= \"3.4\"->pydeck>=0.1.dev5->streamlit) (0.8.1)\n",
            "Requirement already satisfied: pexpect; sys_platform != \"win32\" in /usr/local/lib/python3.6/dist-packages (from ipython>=5.0.0->ipykernel>=5.1.2; python_version >= \"3.4\"->pydeck>=0.1.dev5->streamlit) (4.8.0)\n",
            "Requirement already satisfied: pickleshare in /usr/local/lib/python3.6/dist-packages (from ipython>=5.0.0->ipykernel>=5.1.2; python_version >= \"3.4\"->pydeck>=0.1.dev5->streamlit) (0.7.5)\n",
            "Requirement already satisfied: prompt-toolkit<2.0.0,>=1.0.4 in /usr/local/lib/python3.6/dist-packages (from ipython>=5.0.0->ipykernel>=5.1.2; python_version >= \"3.4\"->pydeck>=0.1.dev5->streamlit) (1.0.18)\n",
            "Requirement already satisfied: pygments in /usr/local/lib/python3.6/dist-packages (from ipython>=5.0.0->ipykernel>=5.1.2; python_version >= \"3.4\"->pydeck>=0.1.dev5->streamlit) (2.6.1)\n",
            "Requirement already satisfied: jupyter-core>=4.6.0 in /usr/local/lib/python3.6/dist-packages (from jupyter-client->ipykernel>=5.1.2; python_version >= \"3.4\"->pydeck>=0.1.dev5->streamlit) (4.7.1)\n",
            "Requirement already satisfied: pyzmq>=13 in /usr/local/lib/python3.6/dist-packages (from jupyter-client->ipykernel>=5.1.2; python_version >= \"3.4\"->pydeck>=0.1.dev5->streamlit) (22.0.2)\n",
            "Requirement already satisfied: notebook>=4.4.1 in /usr/local/lib/python3.6/dist-packages (from widgetsnbextension~=3.5.0->ipywidgets>=7.0.0->pydeck>=0.1.dev5->streamlit) (5.3.1)\n",
            "Requirement already satisfied: ptyprocess>=0.5 in /usr/local/lib/python3.6/dist-packages (from pexpect; sys_platform != \"win32\"->ipython>=5.0.0->ipykernel>=5.1.2; python_version >= \"3.4\"->pydeck>=0.1.dev5->streamlit) (0.7.0)\n",
            "Requirement already satisfied: wcwidth in /usr/local/lib/python3.6/dist-packages (from prompt-toolkit<2.0.0,>=1.0.4->ipython>=5.0.0->ipykernel>=5.1.2; python_version >= \"3.4\"->pydeck>=0.1.dev5->streamlit) (0.2.5)\n",
            "Requirement already satisfied: Send2Trash in /usr/local/lib/python3.6/dist-packages (from notebook>=4.4.1->widgetsnbextension~=3.5.0->ipywidgets>=7.0.0->pydeck>=0.1.dev5->streamlit) (1.5.0)\n",
            "Requirement already satisfied: terminado>=0.8.1 in /usr/local/lib/python3.6/dist-packages (from notebook>=4.4.1->widgetsnbextension~=3.5.0->ipywidgets>=7.0.0->pydeck>=0.1.dev5->streamlit) (0.9.2)\n",
            "Requirement already satisfied: nbconvert in /usr/local/lib/python3.6/dist-packages (from notebook>=4.4.1->widgetsnbextension~=3.5.0->ipywidgets>=7.0.0->pydeck>=0.1.dev5->streamlit) (5.6.1)\n",
            "Requirement already satisfied: mistune<2,>=0.8.1 in /usr/local/lib/python3.6/dist-packages (from nbconvert->notebook>=4.4.1->widgetsnbextension~=3.5.0->ipywidgets>=7.0.0->pydeck>=0.1.dev5->streamlit) (0.8.4)\n",
            "Requirement already satisfied: testpath in /usr/local/lib/python3.6/dist-packages (from nbconvert->notebook>=4.4.1->widgetsnbextension~=3.5.0->ipywidgets>=7.0.0->pydeck>=0.1.dev5->streamlit) (0.4.4)\n",
            "Requirement already satisfied: defusedxml in /usr/local/lib/python3.6/dist-packages (from nbconvert->notebook>=4.4.1->widgetsnbextension~=3.5.0->ipywidgets>=7.0.0->pydeck>=0.1.dev5->streamlit) (0.6.0)\n",
            "Requirement already satisfied: bleach in /usr/local/lib/python3.6/dist-packages (from nbconvert->notebook>=4.4.1->widgetsnbextension~=3.5.0->ipywidgets>=7.0.0->pydeck>=0.1.dev5->streamlit) (3.3.0)\n",
            "Requirement already satisfied: pandocfilters>=1.4.1 in /usr/local/lib/python3.6/dist-packages (from nbconvert->notebook>=4.4.1->widgetsnbextension~=3.5.0->ipywidgets>=7.0.0->pydeck>=0.1.dev5->streamlit) (1.4.3)\n",
            "Requirement already satisfied: webencodings in /usr/local/lib/python3.6/dist-packages (from bleach->nbconvert->notebook>=4.4.1->widgetsnbextension~=3.5.0->ipywidgets>=7.0.0->pydeck>=0.1.dev5->streamlit) (0.5.1)\n",
            "Requirement already satisfied: pyngrok in /usr/local/lib/python3.6/dist-packages (5.0.2)\n",
            "Requirement already satisfied: PyYAML in /usr/local/lib/python3.6/dist-packages (from pyngrok) (3.13)\n",
            "time: 7.65 s (started: 2021-02-21 10:01:31 +00:00)\n"
          ],
          "name": "stdout"
        }
      ]
    },
    {
      "cell_type": "code",
      "metadata": {
        "colab": {
          "base_uri": "https://localhost:8080/"
        },
        "id": "p_QllpxD4MSv",
        "outputId": "167163e2-3a1a-448d-b399-93b42aef6185"
      },
      "source": [
        "%%writefile app.py\r\n",
        "import streamlit as st\r\n",
        "import numpy as np\r\n",
        "from skimage.io import imread\r\n",
        "from skimage.transform import resize\r\n",
        "import pickle\r\n",
        "from PIL import Image\r\n",
        "st.title(\"Image Classifier\")\r\n",
        "st.text('Upload the Image')\r\n",
        "\r\n",
        "model = pickle.load(open('img_model.p','rb'))\r\n",
        "\r\n",
        "uploaded_file = st.file_uploader(\"Choose an image...\", type = \"jpg\")\r\n",
        "if uploaded_file is not None:\r\n",
        "  img = Image.open(uploaded_file)\r\n",
        "  st.image(img, caption='Uploaded Image')\r\n",
        "  if st.button('PREDICT'):\r\n",
        "    Categories = ['Soccer ball', 'Cricket bats', 'Sunflower']\r\n",
        "    st.write(\"Result........\")\r\n",
        "    flat_data = []\r\n",
        "    img = np.array(img)\r\n",
        "    img_resize = resize(img,(150,150,3))\r\n",
        "    flat_data.append(img_resize.flatten())\r\n",
        "    flat_data = np.array(flat_data)\r\n",
        "    st.write(img.shape)    \r\n",
        "    y_out = model.predict(flat_data)\r\n",
        "    y_out = Categories[y_out[0]] # It will be in 2D so we should specify '0' index\r\n",
        "    st.title(f'This is a {y_out.capitalize()} image')"
      ],
      "execution_count": 39,
      "outputs": [
        {
          "output_type": "stream",
          "text": [
            "Overwriting app.py\n",
            "time: 31.2 ms (started: 2021-02-21 10:20:12 +00:00)\n"
          ],
          "name": "stdout"
        }
      ]
    },
    {
      "cell_type": "code",
      "metadata": {
        "colab": {
          "base_uri": "https://localhost:8080/"
        },
        "id": "pK8HYtSw4crA",
        "outputId": "bb599fd7-c396-4acd-ec07-4c01f0e68eb9"
      },
      "source": [
        "!nohup streamlit run app.py &\r\n",
        "\r\n",
        "url = ngrok.connect(port = '8501')\r\n",
        "url"
      ],
      "execution_count": 40,
      "outputs": [
        {
          "output_type": "stream",
          "text": [
            "nohup: appending output to 'nohup.out'\n"
          ],
          "name": "stdout"
        },
        {
          "output_type": "execute_result",
          "data": {
            "text/plain": [
              "<NgrokTunnel: \"http://d6fa842f03d0.ngrok.io\" -> \"http://localhost:80\">"
            ]
          },
          "metadata": {
            "tags": []
          },
          "execution_count": 40
        },
        {
          "output_type": "stream",
          "text": [
            "time: 459 ms (started: 2021-02-21 10:20:41 +00:00)\n"
          ],
          "name": "stdout"
        }
      ]
    },
    {
      "cell_type": "code",
      "metadata": {
        "colab": {
          "base_uri": "https://localhost:8080/"
        },
        "id": "bOMn19S-D_JH",
        "outputId": "79621a5b-bc75-4158-a405-ac4995ac7f43"
      },
      "source": [
        "!streamlit run --server.port 80 app.py >/dev/null"
      ],
      "execution_count": 38,
      "outputs": [
        {
          "output_type": "stream",
          "text": [
            "time: 1min 15s (started: 2021-02-21 10:18:52 +00:00)\n"
          ],
          "name": "stdout"
        }
      ]
    }
  ]
}